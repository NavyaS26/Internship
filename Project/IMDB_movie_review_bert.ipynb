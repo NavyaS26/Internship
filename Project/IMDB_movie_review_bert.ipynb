{
 "cells": [
  {
   "cell_type": "code",
   "execution_count": 1,
   "metadata": {
    "colab": {
     "base_uri": "https://localhost:8080/"
    },
    "id": "nfL9ny5abYwP",
    "outputId": "94a07589-e8bb-491d-d7d0-08b0af92dde5"
   },
   "outputs": [
    {
     "name": "stdout",
     "output_type": "stream",
     "text": [
      "Libraries loaded!\n"
     ]
    }
   ],
   "source": [
    "import torch\n",
    "from torch.utils.data import DataLoader, Dataset\n",
    "from torch.optim import AdamW\n",
    "from transformers import BertTokenizer, BertForSequenceClassification\n",
    "from datasets import load_dataset\n",
    "import numpy as np\n",
    "from sklearn.metrics import accuracy_score, classification_report\n",
    "from tqdm import tqdm\n",
    "import warnings\n",
    "warnings.filterwarnings('ignore')\n",
    "\n",
    "print(\"Libraries loaded!\")"
   ]
  },
  {
   "cell_type": "code",
   "execution_count": 3,
   "metadata": {
    "colab": {
     "base_uri": "https://localhost:8080/"
    },
    "id": "Ej4SYoDUbZGi",
    "outputId": "f1b83d46-6e7b-4f33-971d-f4978030d749"
   },
   "outputs": [
    {
     "name": "stdout",
     "output_type": "stream",
     "text": [
      "Using device: cpu\n"
     ]
    }
   ],
   "source": [
    "CONFIG = {\n",
    "    'model_name': 'bert-base-uncased',\n",
    "    'max_length': 128,          # Reduced from 256\n",
    "    'batch_size': 32,           # Increased for CPU efficiency\n",
    "    'epochs': 2,                # Reduced epochs\n",
    "    'learning_rate': 3e-5,      # Slightly higher LR\n",
    "    'train_samples': 2000,      # Small dataset for speed\n",
    "    'test_samples': 500,        # Small test set\n",
    "    'warmup_steps': 50          # Minimal warmup\n",
    "}\n",
    "\n",
    "device = torch.device('cpu')\n",
    "print(f\"Using device: {device}\")"
   ]
  },
  {
   "cell_type": "code",
   "execution_count": 5,
   "metadata": {
    "colab": {
     "base_uri": "https://localhost:8080/",
     "height": 325,
     "referenced_widgets": [
      "f9085179c9814d1ba42e95ec8f36e34a",
      "7320e1f26a324d92b0a1a56e92155164",
      "5516cdee63234e8aaaff130cbfd3d976",
      "916bf4636d59440aaa116acbb32f0649",
      "1d971d48514b4a959c8d7df4122256eb",
      "897662cc987b46f69cef9c89966a7627",
      "2f862eb4669f453ab8b25f5cce18d577",
      "96d3ae11584a44f08911b97eed4f3fc8",
      "06742fa23f564d6c8d48156dd98b8453",
      "75d960c7bc57422fa7be0d987d19ca3e",
      "35091d4ac69e4c39bd479eaa9ddcd092",
      "563c36e36ffa45feb4d8fffad6c55d54",
      "96133ea3a192416bbfb371b34002a8ce",
      "9c7d5bfa4aab420085b750232b2ff484",
      "117a4d2ca3bd4965902683b469623e6b",
      "d799f8271d094da1bd3fa5d6c6a1cc9f",
      "cc64408eb7b54910b1fd5a696edfb398",
      "6e785b55c1144331aa29179d682c1738",
      "917529c24d8844e0b6b30521f940c8ba",
      "39be8b43ec704e1286a9e1b0d23d2725",
      "40161562f4ed4631a7af43318b8c6b5c",
      "1e56f2a348aa4a7da28f44f98190ee80",
      "accbb2d43e25497d8e8368e35ba44831",
      "0740c4d7325a40e6b97fda3be247c022",
      "b6cf5ced4380410283344fe52e03f63d",
      "7a72a7f01df64054bb804fba1f71e871",
      "77e30c9882d54f7bae4fd7a1c4ecbe9d",
      "49023134ba3046698e7a19d3f80148fb",
      "e66d6759c503478d9e49c3454a9983fd",
      "b67c74010198450f8c8f799bf697ceb1",
      "39d254d400a9482193e3a7e7dfe4aa95",
      "65b050614bab46da8002e7136256bcfc",
      "f0c274dc0c0a4fcaadb542c9de3ed9e7",
      "5f29462642e4417386363b17c6aaf4eb",
      "20564487f89d4e1386c64eaa4c39cf30",
      "50a239ae877b4f16a08f36cbaf0e765f",
      "1cc375a771f34404bd9cdf0fb8b1587c",
      "c8e90acd4f54450483cb2980a3731e42",
      "081669561faf4c7db3c24676f29cbb3b",
      "750098b333db43309684299d0c25f875",
      "11b76be159ec41759755d3cd2ef161bf",
      "34941589bc78443dbe2434ec4e8591a8",
      "1760f0616a154a82bce01a064b2e822b",
      "a4a4b4b551da444aad9bb3f44ebd4348",
      "e58854b99e96417bbccb95aba212ec5d",
      "b442d3c1634d45e8b48e25ff1c3664d4",
      "e306a92f77814a28a7d6b3ee4471fc42",
      "be1cae66bf2c4e9da29cd3acce93453a",
      "bcbde7f0e39f4f3daeee672907386b79",
      "d758fd3bd9314ddca194262633ea3c59",
      "60c8fdf51e62473b875a6c46cf453454",
      "ccc194ce62c04271a1ebc5ecf26be8b5",
      "84e7ce857c9c4f2ea03781b0fd180482",
      "744c840e2999461189c64297737105d8",
      "bab2badb1ec44f1aa1b4e92173d75236",
      "002b39a4954446a789df52793fec74db",
      "7306b4704831411a84492ad141239dd6",
      "7da0e228120b4f2c9d7fd97a7ad71a75",
      "d939c1feeb5e4196a1a26a851518b72c",
      "4e8aed59b71440f391e70206fc0a71df",
      "dcd7f11141614741bc8277765105af0a",
      "699496beaa0649e6af5b257b1654ce7c",
      "0baccbb971864fbcb496d0c929d6c3e1",
      "c0679b08aeef407691ca990a96cab148",
      "54b87002f5a34bf4a3e8190958d662ac",
      "33db58597827479c9c819069af0154bc",
      "37f1d5e76317468eb63659d733129a02",
      "6bd47cd8ab214577aadfbbbde77ea4c8",
      "45471ce3ee534cf18fb4f814c8f53de2",
      "ba9013f5d9d84be4b30139363cf22aab",
      "d51b3240072c4714a2fc80e6b19c3a6c",
      "8d9e3123b5c64792aba5dba693dc4d6d",
      "43b232574e854579bad88880c6199b96",
      "89d8ce2704734a4ca781ca30a692f098",
      "413ad6cef8f24ff8844b5d62ea687feb",
      "56445cc307fa443081b786727738fcf7",
      "bd27b3a1b1e64a769b1a5f496c0cd7f5",
      "0a00809454a742eabb8670e260e89f9b",
      "a370e70925b84f1cacb415db0da566b9",
      "9f87e43da1b549008f36141fb2b2c68d",
      "3d061da5e7ab40a7911aa236e8bdc12c",
      "6f29b0dafad74f659d2c66b92e1dcb25",
      "13a3949ec9bc46f49a0da37e273cff10",
      "fe33f42b8c8b4efca78e837f930593d3",
      "991a6453218c4b38bb7fe530717f83ec",
      "bf18af1fc66a462ebc68b9e7e005a5df",
      "59e075a6e3764b768b9dd35d88e8b6b9",
      "ef14ec0d5eb248b7ac022e5d7334ce08"
     ]
    },
    "id": "mDIC5z4LbzBD",
    "outputId": "a7f99a2b-b571-45e6-8990-5a2b79aea8b6"
   },
   "outputs": [
    {
     "data": {
      "application/vnd.jupyter.widget-view+json": {
       "model_id": "f9085179c9814d1ba42e95ec8f36e34a",
       "version_major": 2,
       "version_minor": 0
      },
      "text/plain": [
       "Downloading data files:   0%|          | 0/3 [00:00<?, ?it/s]"
      ]
     },
     "metadata": {},
     "output_type": "display_data"
    },
    {
     "data": {
      "application/vnd.jupyter.widget-view+json": {
       "model_id": "563c36e36ffa45feb4d8fffad6c55d54",
       "version_major": 2,
       "version_minor": 0
      },
      "text/plain": [
       "Downloading data:   0%|          | 0.00/20.5M [00:00<?, ?B/s]"
      ]
     },
     "metadata": {},
     "output_type": "display_data"
    },
    {
     "data": {
      "application/vnd.jupyter.widget-view+json": {
       "model_id": "accbb2d43e25497d8e8368e35ba44831",
       "version_major": 2,
       "version_minor": 0
      },
      "text/plain": [
       "Downloading data:   0%|          | 0.00/21.0M [00:00<?, ?B/s]"
      ]
     },
     "metadata": {},
     "output_type": "display_data"
    },
    {
     "data": {
      "application/vnd.jupyter.widget-view+json": {
       "model_id": "5f29462642e4417386363b17c6aaf4eb",
       "version_major": 2,
       "version_minor": 0
      },
      "text/plain": [
       "Downloading data:   0%|          | 0.00/42.0M [00:00<?, ?B/s]"
      ]
     },
     "metadata": {},
     "output_type": "display_data"
    },
    {
     "data": {
      "application/vnd.jupyter.widget-view+json": {
       "model_id": "e58854b99e96417bbccb95aba212ec5d",
       "version_major": 2,
       "version_minor": 0
      },
      "text/plain": [
       "Extracting data files:   0%|          | 0/3 [00:00<?, ?it/s]"
      ]
     },
     "metadata": {},
     "output_type": "display_data"
    },
    {
     "data": {
      "application/vnd.jupyter.widget-view+json": {
       "model_id": "002b39a4954446a789df52793fec74db",
       "version_major": 2,
       "version_minor": 0
      },
      "text/plain": [
       "Generating test split:   0%|          | 0/25000 [00:00<?, ? examples/s]"
      ]
     },
     "metadata": {},
     "output_type": "display_data"
    },
    {
     "data": {
      "application/vnd.jupyter.widget-view+json": {
       "model_id": "37f1d5e76317468eb63659d733129a02",
       "version_major": 2,
       "version_minor": 0
      },
      "text/plain": [
       "Generating train split:   0%|          | 0/25000 [00:00<?, ? examples/s]"
      ]
     },
     "metadata": {},
     "output_type": "display_data"
    },
    {
     "data": {
      "application/vnd.jupyter.widget-view+json": {
       "model_id": "0a00809454a742eabb8670e260e89f9b",
       "version_major": 2,
       "version_minor": 0
      },
      "text/plain": [
       "Generating unsupervised split:   0%|          | 0/50000 [00:00<?, ? examples/s]"
      ]
     },
     "metadata": {},
     "output_type": "display_data"
    },
    {
     "name": "stdout",
     "output_type": "stream",
     "text": [
      "Train samples: 2000\n",
      "Test samples: 500\n",
      "Label distribution - Train: 1000 neg, 1000 pos\n"
     ]
    }
   ],
   "source": [
    "from datasets import load_dataset\n",
    "dataset = load_dataset('imdb')\n",
    "\n",
    "\n",
    "\n",
    "# Extract balanced subsets (equal positive and negative)\n",
    "def get_balanced_subset(data, n_samples):\n",
    "    texts = []\n",
    "    labels = []\n",
    "\n",
    "    # Get equal numbers of positive and negative samples\n",
    "    n_per_class = n_samples // 2\n",
    "    neg_count = 0\n",
    "    pos_count = 0\n",
    "\n",
    "    for item in data:\n",
    "        if item['label'] == 0 and neg_count < n_per_class:\n",
    "            texts.append(item['text'])\n",
    "            labels.append(item['label'])\n",
    "            neg_count += 1\n",
    "        elif item['label'] == 1 and pos_count < n_per_class:\n",
    "            texts.append(item['text'])\n",
    "            labels.append(item['label'])\n",
    "            pos_count += 1\n",
    "        if neg_count >= n_per_class and pos_count >= n_per_class:\n",
    "            break\n",
    "\n",
    "    return texts, labels\n",
    "\n",
    "train_texts, train_labels = get_balanced_subset(dataset['train'], CONFIG['train_samples'])\n",
    "test_texts, test_labels = get_balanced_subset(dataset['test'], CONFIG['test_samples'])\n",
    "\n",
    "print(f\"Train samples: {len(train_texts)}\")\n",
    "print(f\"Test samples: {len(test_texts)}\")\n",
    "print(f\"Label distribution - Train: {train_labels.count(0)} neg, {train_labels.count(1)} pos\")"
   ]
  },
  {
   "cell_type": "code",
   "execution_count": 6,
   "metadata": {
    "colab": {
     "base_uri": "https://localhost:8080/",
     "height": 162,
     "referenced_widgets": [
      "7baed53147df4f75b920a0562b5b7801",
      "13eea19cf9134a3b984259effb3e3add",
      "59d950ffdcb84c7cb8debbfc684c4e4b",
      "9a3a0db49010499dab0432a3a324f69d",
      "94f3038a969f4b09aecb22125568dba5",
      "5b6cdde04d4d4330bdfb195c02d2e890",
      "0919916cef1f49938013d3bba4d6910c",
      "a2a6d1ac3a1a4587a95ddccf6786aa21",
      "86194d5ed0c94b2d83505ce9f246da3a",
      "d19b8cc955124e2b8ccf7b92160fe230",
      "e6333d6948194afdb210534f629aaca3",
      "bcbf818b9e6d493ab320c51ecd4e6a60",
      "ce789063ed024be188df2aa80f9890b7",
      "af401654c16943f198d48366bcd476c3",
      "f4c94b4810244d17afb1d381305d1529",
      "5a1aaaf9cc5b4db4acc8be7edd25e834",
      "27f5684e931a47dfbd5ac01963aaaa8c",
      "6ad9a1a5300d4ea185d3f5a2bc4538f2",
      "96d91b8228994277bfc1e68fe5e7a5e6",
      "d53e879af4b94cc494406a65b0510409",
      "b1b687a7f82842e0b83dbb9b83a9fef5",
      "99f472a0091a4e92ab2a907e5ea0d564",
      "9ddd8ebfb38646a8bb94dae8cb0ab0e6",
      "fdf14633a1d14fc286ea7e0426e10c81",
      "57aac60e81fc469ea7412245c687168c",
      "cf96862828cb4272b43ff1e21b4bca89",
      "ee0401f99829402aaca695d9fb1abb12",
      "a3808c5ead234cefb17890f57c68a414",
      "ae209e40c657429ba39f9f8d0b769f85",
      "ab2b4014df4b46eeb298d6c2337e994a",
      "3ec47fcd2ba14ecebc1bb8df5c7bffa3",
      "579d846160c14b4cb6000d931151ef36",
      "c6e18088b4314f84a360258dc2f344d2",
      "28b62fb3e3fe45b8969b96242bc6b04e",
      "58bbf65e9c6d46d8b3695252f0dd3af7",
      "2e29f1d139fb47cbac289e5bb89470fb",
      "3f095ef4e74340e4a304ed4fd691e122",
      "92c7cd042a1644b19693bb72a2b37e9c",
      "949b4a974526481f804562449bf3b1da",
      "2165610bccf5407ba24c4b76a23b0be4",
      "18681969fc5d4723a627e0570b284e07",
      "d4f92a6d9a384fbea805e15b650944c3",
      "31bb241db40d40b79fb03799b25d41ac",
      "76525eb966564822a7129a2167b372da"
     ]
    },
    "id": "zU3QLOZzcAag",
    "outputId": "95b9d79b-d37e-4bd3-fe12-c10dd01c6fd4"
   },
   "outputs": [
    {
     "data": {
      "application/vnd.jupyter.widget-view+json": {
       "model_id": "7baed53147df4f75b920a0562b5b7801",
       "version_major": 2,
       "version_minor": 0
      },
      "text/plain": [
       "tokenizer_config.json:   0%|          | 0.00/48.0 [00:00<?, ?B/s]"
      ]
     },
     "metadata": {},
     "output_type": "display_data"
    },
    {
     "data": {
      "application/vnd.jupyter.widget-view+json": {
       "model_id": "bcbf818b9e6d493ab320c51ecd4e6a60",
       "version_major": 2,
       "version_minor": 0
      },
      "text/plain": [
       "vocab.txt:   0%|          | 0.00/232k [00:00<?, ?B/s]"
      ]
     },
     "metadata": {},
     "output_type": "display_data"
    },
    {
     "data": {
      "application/vnd.jupyter.widget-view+json": {
       "model_id": "9ddd8ebfb38646a8bb94dae8cb0ab0e6",
       "version_major": 2,
       "version_minor": 0
      },
      "text/plain": [
       "tokenizer.json:   0%|          | 0.00/466k [00:00<?, ?B/s]"
      ]
     },
     "metadata": {},
     "output_type": "display_data"
    },
    {
     "data": {
      "application/vnd.jupyter.widget-view+json": {
       "model_id": "28b62fb3e3fe45b8969b96242bc6b04e",
       "version_major": 2,
       "version_minor": 0
      },
      "text/plain": [
       "config.json:   0%|          | 0.00/570 [00:00<?, ?B/s]"
      ]
     },
     "metadata": {},
     "output_type": "display_data"
    },
    {
     "name": "stdout",
     "output_type": "stream",
     "text": [
      "Tokenizer loaded!\n"
     ]
    }
   ],
   "source": [
    "tokenizer = BertTokenizer.from_pretrained(CONFIG['model_name'])\n",
    "print(\"Tokenizer loaded!\")"
   ]
  },
  {
   "cell_type": "code",
   "execution_count": 11,
   "metadata": {
    "id": "71MZT6rVdA6w"
   },
   "outputs": [],
   "source": [
    "class FastIMDBDataset(Dataset):\n",
    "    def __init__(self, texts, labels, tokenizer, max_length):\n",
    "        self.texts = texts\n",
    "        self.labels = labels\n",
    "        self.tokenizer = tokenizer\n",
    "        self.max_length = max_length\n",
    "\n",
    "    def __len__(self):\n",
    "        return len(self.texts)\n",
    "\n",
    "    def __getitem__(self, idx):\n",
    "        text = str(self.texts[idx])\n",
    "        label = self.labels[idx]\n",
    "\n",
    "        encoding = self.tokenizer(\n",
    "            text,\n",
    "            max_length=self.max_length,\n",
    "            padding='max_length',\n",
    "            truncation=True,\n",
    "            return_tensors='pt'\n",
    "        )\n",
    "        return {\n",
    "            'input_ids': encoding['input_ids'].flatten(),\n",
    "            'attention_mask': encoding['attention_mask'].flatten(),\n",
    "            'labels': torch.tensor(label, dtype=torch.long)\n",
    "        }"
   ]
  },
  {
   "cell_type": "code",
   "execution_count": 12,
   "metadata": {
    "colab": {
     "base_uri": "https://localhost:8080/"
    },
    "id": "lhdI-2GqdHsh",
    "outputId": "2ce921f3-29f3-412f-ee92-78ffba5dd21d"
   },
   "outputs": [
    {
     "name": "stdout",
     "output_type": "stream",
     "text": [
      "Data loaders created! Train batches: 63, Test batches: 16\n"
     ]
    }
   ],
   "source": [
    "train_dataset = FastIMDBDataset(train_texts, train_labels, tokenizer, CONFIG['max_length'])\n",
    "test_dataset = FastIMDBDataset(test_texts, test_labels, tokenizer, CONFIG['max_length'])\n",
    "\n",
    "train_loader = DataLoader(train_dataset, batch_size=CONFIG['batch_size'], shuffle=True)\n",
    "test_loader = DataLoader(test_dataset, batch_size=CONFIG['batch_size'], shuffle=False)\n",
    "\n",
    "print(f\"Data loaders created! Train batches: {len(train_loader)}, Test batches: {len(test_loader)}\")\n"
   ]
  },
  {
   "cell_type": "code",
   "execution_count": 13,
   "metadata": {
    "colab": {
     "base_uri": "https://localhost:8080/"
    },
    "id": "w4HRQiKFdKry",
    "outputId": "263da6c9-ff39-4864-9bf9-a715f6b9a50d"
   },
   "outputs": [
    {
     "name": "stderr",
     "output_type": "stream",
     "text": [
      "Some weights of BertForSequenceClassification were not initialized from the model checkpoint at bert-base-uncased and are newly initialized: ['classifier.bias', 'classifier.weight']\n",
      "You should probably TRAIN this model on a down-stream task to be able to use it for predictions and inference.\n"
     ]
    },
    {
     "name": "stdout",
     "output_type": "stream",
     "text": [
      "Model loaded!\n"
     ]
    }
   ],
   "source": [
    "model = BertForSequenceClassification.from_pretrained(\n",
    "    CONFIG['model_name'],\n",
    "    num_labels=2\n",
    ")\n",
    "model = model.to(device)\n",
    "\n",
    "print(\"Model loaded!\")"
   ]
  },
  {
   "cell_type": "code",
   "execution_count": 14,
   "metadata": {
    "id": "VgWiP_y-dNeg"
   },
   "outputs": [],
   "source": [
    "optimizer = AdamW(model.parameters(), lr=CONFIG['learning_rate'])"
   ]
  },
  {
   "cell_type": "code",
   "execution_count": 15,
   "metadata": {
    "id": "NaWP4nBKdS2B"
   },
   "outputs": [],
   "source": [
    "def train_epoch(model, train_loader, optimizer):\n",
    "    model.train()\n",
    "    total_loss = 0\n",
    "    correct = 0\n",
    "    total = 0\n",
    "\n",
    "    pbar = tqdm(train_loader, desc='Training')\n",
    "    for batch in pbar:\n",
    "        input_ids = batch['input_ids'].to(device)\n",
    "        attention_mask = batch['attention_mask'].to(device)\n",
    "        labels = batch['labels'].to(device)\n",
    "\n",
    "        optimizer.zero_grad()\n",
    "\n",
    "        outputs = model(input_ids=input_ids, attention_mask=attention_mask, labels=labels)\n",
    "        loss = outputs.loss\n",
    "        logits = outputs.logits\n",
    "\n",
    "        loss.backward()\n",
    "        optimizer.step()\n",
    "\n",
    "        total_loss += loss.item()\n",
    "        predictions = torch.argmax(logits, dim=1)\n",
    "        correct += (predictions == labels).sum().item()\n",
    "        total += labels.size(0)\n",
    "\n",
    "        pbar.set_postfix({'loss': f'{loss.item():.3f}', 'acc': f'{correct/total:.3f}'})\n",
    "\n",
    "    return total_loss / len(train_loader), correct / total\n",
    "\n",
    "# Step 10: Fast evaluation function\n",
    "def evaluate(model, test_loader):\n",
    "    model.eval()\n",
    "    predictions = []\n",
    "    true_labels = []\n",
    "    total_loss = 0\n",
    "\n",
    "    with torch.no_grad():\n",
    "        pbar = tqdm(test_loader, desc='Evaluating')\n",
    "        for batch in pbar:\n",
    "            input_ids = batch['input_ids'].to(device)\n",
    "            attention_mask = batch['attention_mask'].to(device)\n",
    "            labels = batch['labels'].to(device)\n",
    "\n",
    "            outputs = model(input_ids=input_ids, attention_mask=attention_mask, labels=labels)\n",
    "            loss = outputs.loss\n",
    "            logits = outputs.logits\n",
    "\n",
    "            total_loss += loss.item()\n",
    "            batch_predictions = torch.argmax(logits, dim=1)\n",
    "\n",
    "            predictions.extend(batch_predictions.cpu().numpy())\n",
    "            true_labels.extend(labels.cpu().numpy())\n",
    "\n",
    "    accuracy = accuracy_score(true_labels, predictions)\n",
    "    avg_loss = total_loss / len(test_loader)\n",
    "\n",
    "    return avg_loss, accuracy, predictions, true_labels\n"
   ]
  },
  {
   "cell_type": "code",
   "execution_count": 16,
   "metadata": {
    "colab": {
     "base_uri": "https://localhost:8080/"
    },
    "id": "OOkZapWadbUe",
    "outputId": "c5cf9537-e210-40b0-9e56-38bed8f107d9"
   },
   "outputs": [
    {
     "metadata": {
      "tags": null
     },
     "name": "stdout",
     "output_type": "stream",
     "text": [
      "\n",
      "Epoch 1/2\n"
     ]
    },
    {
     "name": "stderr",
     "output_type": "stream",
     "text": [
      "Training: 100%|██████████| 63/63 [33:01<00:00, 31.46s/it, loss=0.232, acc=0.680]\n",
      "Evaluating: 100%|██████████| 16/16 [02:33<00:00,  9.57s/it]\n"
     ]
    },
    {
     "name": "stdout",
     "output_type": "stream",
     "text": [
      "Train Loss: 0.5704 | Train Acc: 0.6805\n",
      "Val Loss: 0.3853 | Val Acc: 0.8540\n",
      "\n",
      "Epoch 2/2\n"
     ]
    },
    {
     "name": "stderr",
     "output_type": "stream",
     "text": [
      "Training: 100%|██████████| 63/63 [32:44<00:00, 31.19s/it, loss=0.313, acc=0.875]\n",
      "Evaluating: 100%|██████████| 16/16 [02:38<00:00,  9.90s/it]"
     ]
    },
    {
     "name": "stdout",
     "output_type": "stream",
     "text": [
      "Train Loss: 0.3121 | Train Acc: 0.8745\n",
      "Val Loss: 0.3490 | Val Acc: 0.8560\n"
     ]
    },
    {
     "name": "stderr",
     "output_type": "stream",
     "text": [
      "\n"
     ]
    }
   ],
   "source": [
    "for epoch in range(CONFIG['epochs']):\n",
    "    print(f'\\nEpoch {epoch + 1}/{CONFIG[\"epochs\"]}')\n",
    "\n",
    "    train_loss, train_acc = train_epoch(model, train_loader, optimizer)\n",
    "\n",
    "    val_loss, val_acc, predictions, true_labels = evaluate(model, test_loader)\n",
    "\n",
    "    print(f'Train Loss: {train_loss:.4f} | Train Acc: {train_acc:.4f}')\n",
    "    print(f'Val Loss: {val_loss:.4f} | Val Acc: {val_acc:.4f}')\n"
   ]
  },
  {
   "cell_type": "code",
   "execution_count": 17,
   "metadata": {
    "colab": {
     "base_uri": "https://localhost:8080/"
    },
    "id": "Z8YSNsA3di71",
    "outputId": "96847133-2b93-4a1d-f6e9-2c94f63f3299"
   },
   "outputs": [
    {
     "name": "stdout",
     "output_type": "stream",
     "text": [
      "Final Test Accuracy: 0.8560\n",
      "Classes in test set: {np.int64(0), np.int64(1)}\n",
      "\n",
      "Classification Report:\n",
      "              precision    recall  f1-score   support\n",
      "\n",
      "    Negative       0.83      0.90      0.86       250\n",
      "    Positive       0.89      0.81      0.85       250\n",
      "\n",
      "    accuracy                           0.86       500\n",
      "   macro avg       0.86      0.86      0.86       500\n",
      "weighted avg       0.86      0.86      0.86       500\n",
      "\n"
     ]
    }
   ],
   "source": [
    "print(f'Final Test Accuracy: {val_acc:.4f}')\n",
    "\n",
    "\n",
    "unique_labels = set(true_labels)\n",
    "print(f\"Classes in test set: {unique_labels}\")\n",
    "\n",
    "if len(unique_labels) > 1:\n",
    "    print(\"\\nClassification Report:\")\n",
    "    print(classification_report(true_labels, predictions, target_names=['Negative', 'Positive']))\n",
    "else:\n",
    "    print(\"\\nWarning: Only one class found in predictions. Cannot generate full classification report.\")\n",
    "    print(f\"All predictions are: {'Positive' if list(unique_labels)[0] == 1 else 'Negative'}\")\n"
   ]
  },
  {
   "cell_type": "code",
   "execution_count": 19,
   "metadata": {
    "id": "x8vJfb4qzvs2"
   },
   "outputs": [],
   "source": [
    "def quick_predict(text):\n",
    "    model.eval()\n",
    "\n",
    "    encoding = tokenizer(\n",
    "        text,\n",
    "        max_length=CONFIG['max_length'],\n",
    "        padding='max_length',\n",
    "        truncation=True,\n",
    "        return_tensors='pt'\n",
    "    )\n",
    "\n",
    "    input_ids = encoding['input_ids'].to(device)\n",
    "    attention_mask = encoding['attention_mask'].to(device)\n",
    "\n",
    "    with torch.no_grad():\n",
    "        outputs = model(input_ids=input_ids, attention_mask=attention_mask)\n",
    "        logits = outputs.logits\n",
    "        probabilities = torch.softmax(logits, dim=1)\n",
    "        prediction = torch.argmax(logits, dim=1)\n",
    "\n",
    "    sentiment = 'Positive' if prediction.item() == 1 else 'Negative'\n",
    "    confidence = probabilities[0][prediction].item()\n",
    "\n",
    "    return sentiment, confidence\n"
   ]
  },
  {
   "cell_type": "code",
   "execution_count": 26,
   "metadata": {
    "colab": {
     "base_uri": "https://localhost:8080/",
     "height": 489
    },
    "id": "w7_5RTO8X2kW",
    "outputId": "7d560707-2bb5-4fab-b107-cdd4a57b380a"
   },
   "outputs": [
    {
     "name": "stderr",
     "output_type": "stream",
     "text": [
      "Evaluating: 100%|██████████| 16/16 [02:38<00:00,  9.92s/it]\n"
     ]
    },
    {
     "data": {
      "image/png": "[encoded data removed]",
      "text/plain": [
       "<Figure size 640x480 with 2 Axes>"
      ]
     },
     "metadata": {},
     "output_type": "display_data"
    }
   ],
   "source": [
    "import matplotlib.pyplot as plt\n",
    "from sklearn.metrics import confusion_matrix, ConfusionMatrixDisplay\n",
    "\n",
    "_, _, predictions, true_labels = evaluate(model, test_loader)\n",
    "\n",
    "cm = confusion_matrix(true_labels, predictions)\n",
    "\n",
    "# Display the confusion matrix\n",
    "disp = ConfusionMatrixDisplay(confusion_matrix=cm, display_labels=['Negative', 'Positive'])\n",
    "disp.plot(cmap=plt.cm.Blues)\n",
    "plt.title(\"Confusion Matrix\")\n",
    "plt.show()"
   ]
  },
  {
   "cell_type": "code",
   "execution_count": 20,
   "metadata": {
    "colab": {
     "base_uri": "https://localhost:8080/"
    },
    "id": "lVJMoJryz3Bx",
    "outputId": "318d72b2-1e80-4c37-997a-b9ea14acf3ba"
   },
   "outputs": [
    {
     "name": "stdout",
     "output_type": "stream",
     "text": [
      "1. Review: This movie was amazing! I loved it!\n",
      "   Prediction: Positive (Confidence: 0.978)\n",
      "\n",
      "2. Review: Terrible movie, waste of time.\n",
      "   Prediction: Negative (Confidence: 0.960)\n",
      "\n",
      "3. Review: Great acting and wonderful story.\n",
      "   Prediction: Positive (Confidence: 0.980)\n",
      "\n",
      "4. Review: Boring and poorly made film.\n",
      "   Prediction: Negative (Confidence: 0.957)\n",
      "\n",
      "5. Review: the movie is decent\n",
      "   Prediction: Positive (Confidence: 0.705)\n",
      "\n"
     ]
    }
   ],
   "source": [
    "test_reviews = [\n",
    "    \"This movie was amazing! I loved it!\",\n",
    "    \"Terrible movie, waste of time.\",\n",
    "    \"Great acting and wonderful story.\",\n",
    "    \"Boring and poorly made film.\",\n",
    "    \"the movie is decent\"\n",
    "]\n",
    "\n",
    "for i, review in enumerate(test_reviews, 1):\n",
    "    sentiment, confidence = quick_predict(review)\n",
    "    print(f\"{i}. Review: {review}\")\n",
    "    print(f\"   Prediction: {sentiment} (Confidence: {confidence:.3f})\")\n",
    "    print()\n"
   ]
  },
  {
   "cell_type": "code",
   "execution_count": 25,
   "metadata": {
    "colab": {
     "base_uri": "https://localhost:8080/"
    },
    "id": "x_5TfWFg0Q4B",
    "outputId": "b591e5b4-7c26-4109-8f29-64975309cc15"
   },
   "outputs": [
    {
     "name": "stdout",
     "output_type": "stream",
     "text": [
      "\n",
      "==================================================\n",
      "🎬 MOVIE REVIEW SENTIMENT ANALYZER 🎬\n",
      "==================================================\n",
      "Enter your movie reviews to analyze sentiment!\n",
      "Type 'quit' to exit, 'examples' to see sample reviews\n",
      "--------------------------------------------------\n",
      "\n",
      "📝 Enter a movie review: the movie is excellent \n",
      "\n",
      "🔍 Analyzing: 'the movie is excellent'\n",
      "⏳ Processing...\n",
      "\n",
      "📊 RESULTS:\n",
      "   Sentiment: 😊 Positive\n",
      "   Confidence: 96.3%\n",
      "   Confidence Bar: [█████████░] 96.3%\n",
      "   💪 High confidence prediction!\n",
      "--------------------------------------------------\n",
      "\n",
      "📝 Enter a movie review: the movie is a flop \n",
      "\n",
      "🔍 Analyzing: 'the movie is a flop'\n",
      "⏳ Processing...\n",
      "\n",
      "📊 RESULTS:\n",
      "   Sentiment: 😞 Negative\n",
      "   Confidence: 81.5%\n",
      "   Confidence Bar: [████████░░] 81.5%\n",
      "   💪 High confidence prediction!\n",
      "--------------------------------------------------\n",
      "\n",
      "📝 Enter a movie review: quit\n",
      "👋 Thanks for using the sentiment analyzer!\n",
      "\n",
      "========================================\n",
      "Training Complete!\n",
      "========================================\n"
     ]
    }
   ],
   "source": [
    "def analyze_custom_reviews():\n",
    "    print(\"\\n\" + \"=\"*50)\n",
    "    print(\"🎬 MOVIE REVIEW SENTIMENT ANALYZER 🎬\")\n",
    "    print(\"=\"*50)\n",
    "    print(\"Enter your movie reviews to analyze sentiment!\")\n",
    "    print(\"Type 'quit' to exit, 'examples' to see sample reviews\")\n",
    "    print(\"-\" * 50)\n",
    "\n",
    "    while True:\n",
    "        user_input = input(\"\\n📝 Enter a movie review: \").strip()\n",
    "\n",
    "        if user_input.lower() == 'quit':\n",
    "            print(\"👋 Thanks for using the sentiment analyzer!\")\n",
    "            break\n",
    "\n",
    "        elif user_input.lower() == 'examples':\n",
    "            print(\"\\n🎭 Sample reviews to try:\")\n",
    "            examples = [\n",
    "                \"This movie was absolutely incredible! Best film of the year!\",\n",
    "                \"Terrible movie, complete waste of time and money.\",\n",
    "                \"The acting was phenomenal and the story was captivating.\",\n",
    "                \"Boring plot, bad acting, and poor direction.\",\n",
    "                \"A masterpiece! Every scene was perfectly crafted.\"\n",
    "            ]\n",
    "            for i, example in enumerate(examples, 1):\n",
    "                print(f\"   {i}. {example}\")\n",
    "            continue\n",
    "\n",
    "        elif not user_input:\n",
    "            print(\"❌ Please enter a review or type 'quit' to exit.\")\n",
    "            continue\n",
    "\n",
    "\n",
    "        print(f\"\\n🔍 Analyzing: '{user_input}'\")\n",
    "        print(\"⏳ Processing...\")\n",
    "\n",
    "        sentiment, confidence = quick_predict(user_input)\n",
    "\n",
    "        emoji = \"😊\" if sentiment == \"Positive\" else \"😞\"\n",
    "        confidence_bar = \"█\" * int(confidence * 10) + \"░\" * (10 - int(confidence * 10))\n",
    "\n",
    "        print(f\"\\n📊 RESULTS:\")\n",
    "        print(f\"   Sentiment: {emoji} {sentiment}\")\n",
    "        print(f\"   Confidence: {confidence:.1%}\")\n",
    "        print(f\"   Confidence Bar: [{confidence_bar}] {confidence:.1%}\")\n",
    "\n",
    "        if confidence > 0.8:\n",
    "            print(f\"   💪 High confidence prediction!\")\n",
    "        elif confidence > 0.6:\n",
    "            print(f\"   👍 Moderate confidence prediction\")\n",
    "        else:\n",
    "            print(f\"   🤔 Low confidence - the review might be neutral\")\n",
    "\n",
    "        print(\"-\" * 50)\n",
    "\n",
    "analyze_custom_reviews()\n",
    "\n",
    "print(\"\\n\" + \"=\"*40)\n",
    "print(\"Training Complete!\")\n",
    "print(\"=\"*40)"
   ]
  },
  {
   "cell_type": "code",
   "execution_count": null,
   "metadata": {
    "id": "cQJuYEEw3dZW"
   },
   "outputs": [],
   "source": []
  }
 ],
 "metadata": {
  "accelerator": "GPU",
  "colab": {
   "gpuType": "T4",
   "provenance": []
  },
  "kernelspec": {
   "display_name": "Python 3",
   "name": "python3"
  }
 },
 "nbformat": 4,
 "nbformat_minor": 0
}
