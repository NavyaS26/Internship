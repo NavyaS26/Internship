{
  "cells": [
    {
      "cell_type": "markdown",
      "metadata": {
        "id": "view-in-github",
        "colab_type": "text"
      },
      "source": [
        "<a href=\"https://colab.research.google.com/github/NavyaS26/Internship/blob/main/Fashion_mnist_dnn.ipynb\" target=\"_parent\"><img src=\"https://colab.research.google.com/assets/colab-badge.svg\" alt=\"Open In Colab\"/></a>"
      ]
    },
    {
      "cell_type": "code",
      "source": [
        "import numpy as np\n",
        "import matplotlib.pyplot as plt\n",
        "import tensorflow as tf\n",
        "from tensorflow.keras import layers\n",
        "from tensorflow.keras.datasets import fashion_mnist\n",
        "from tensorflow.keras.models import Model\n",
        "from tensorflow.keras.layers import Dense, Input, Add, Activation, Flatten\n",
        "from tensorflow.keras.utils import to_categorical\n",
        "from tensorflow.keras import regularizers\n",
        "from tensorflow.keras.optimizers import Adam\n",
        "from tensorflow.keras.callbacks import ReduceLROnPlateau, EarlyStopping\n",
        "\n",
        "\n",
        "import seaborn as sns"
      ],
      "metadata": {
        "id": "BOmYqUzBCn4m"
      },
      "execution_count": 15,
      "outputs": []
    },
    {
      "cell_type": "code",
      "source": [
        "(x_train, y_train), (x_test, y_test) = tf.keras.datasets.fashion_mnist.load_data()\n",
        "x_train_flat = x_train.reshape(-1, 784).astype('float32') / 255.0\n",
        "x_test_flat = x_test.reshape(-1, 784).astype('float32') / 255.0\n",
        "y_train = to_categorical(y_train, 10)\n",
        "y_test = to_categorical(y_test, 10)"
      ],
      "metadata": {
        "id": "dYTLMjWcC2eS"
      },
      "execution_count": 16,
      "outputs": []
    },
    {
      "cell_type": "code",
      "source": [
        "def create_resnet_dnn():\n",
        "    inputs = layers.Input(shape=(784,))\n",
        "\n",
        "    x = layers.BatchNormalization()(inputs)\n",
        "    # Initial dense layer\n",
        "    x = layers.Dense(784, activation='relu')(inputs)\n",
        "\n",
        "    # Residual block 1\n",
        "    x1 = layers.Dense(784, activation='relu', kernel_regularizer=regularizers.l2(1e-5))(x)\n",
        "    x1 = layers.Dropout(0.6)(x1)\n",
        "    x2 = layers.Dense(784, activation='relu', kernel_regularizer=regularizers.l2(1e-5))(x1)\n",
        "    res1 = layers.Add()([x, x2])  # Skip connection\n",
        "    res1 = layers.Activation('relu')(res1)\n",
        "    res1 = layers.Dropout(0.5)(res1)\n",
        "\n",
        "    # Residual block 2\n",
        "    x3 =layers.Dense(1024, activation='relu', kernel_regularizer=regularizers.l2(1e-5))(res1)\n",
        "    x3 = layers.Dropout(0.4)(x3)\n",
        "    x4 = layers.Dense(1024, activation='relu', kernel_regularizer=regularizers.l2(1e-5))(x3)\n",
        "    # Need to match dimensions for the skip connection\n",
        "    res1_down = layers.Dense(1024, activation='relu')(res1)  # Projection to match dimensions\n",
        "    res2 = layers.Add()([res1_down, x4])\n",
        "    res2 = layers.Activation('relu')(res2)\n",
        "    res2 = layers.Dropout(0.4)(res2)\n",
        "\n",
        "\n",
        "    # Residual block 3\n",
        "    x5 = layers.Dense(512, activation='relu', kernel_regularizer=regularizers.l2(1e-5))(res2)\n",
        "    x5 = layers.Dropout(0.3)(x5)\n",
        "    x6 = layers.Dense(512, activation='relu', kernel_regularizer=regularizers.l2(1e-5))(x5)\n",
        "    res2_down = layers.Dense(512, activation='relu')(res2)\n",
        "    res3 = layers.Add()([res2_down, x6])\n",
        "    res3 = layers.Activation('relu')(res3)\n",
        "    res3 = layers.Dropout(0.3)(res3)\n",
        "\n",
        "\n",
        "    # Final layers\n",
        "    x_final = layers.Dense(256, activation='relu')(res3)\n",
        "    x_final = layers.Dense(128, activation='relu')(x_final)\n",
        "    x_final = layers.Dense(64, activation='relu')(x_final)\n",
        "    outputs = layers.Dense(10, activation='softmax')(x_final)\n",
        "\n",
        "    return Model(inputs, outputs)"
      ],
      "metadata": {
        "id": "oGR3uQujC8uy"
      },
      "execution_count": 17,
      "outputs": []
    },
    {
      "cell_type": "code",
      "source": [
        "resnet = create_resnet_dnn()\n",
        "\n",
        "resnet.compile(optimizer=Adam(learning_rate=0.001),\n",
        "              loss='categorical_crossentropy',\n",
        "              metrics=['accuracy'])"
      ],
      "metadata": {
        "id": "XWxLSizyDE7o"
      },
      "execution_count": 18,
      "outputs": []
    },
    {
      "cell_type": "code",
      "source": [
        "lr_schedule = ReduceLROnPlateau(monitor='val_accuracy', factor=0.5, patience=10, min_lr=1e-6)\n",
        "early_stop = EarlyStopping(monitor='val_accuracy', patience=12, restore_best_weights=True)\n",
        "\n",
        "\n",
        "callbacks=[early_stop, lr_schedule]\n",
        "history_resnet = resnet.fit(x_train_flat,\n",
        "                    y_train,\n",
        "                    validation_split=0.3,\n",
        "                    epochs=20,\n",
        "                    batch_size=128,\n",
        "                    callbacks=callbacks,\n",
        "                    verbose=1\n",
        "                    )"
      ],
      "metadata": {
        "id": "71l5odAxDGuv",
        "outputId": "46a4da82-5e62-48db-a32f-3e73284b4e2b",
        "colab": {
          "base_uri": "https://localhost:8080/"
        }
      },
      "execution_count": 21,
      "outputs": [
        {
          "output_type": "stream",
          "name": "stdout",
          "text": [
            "Epoch 1/20\n",
            "\u001b[1m329/329\u001b[0m \u001b[32m━━━━━━━━━━━━━━━━━━━━\u001b[0m\u001b[37m\u001b[0m \u001b[1m55s\u001b[0m 167ms/step - accuracy: 0.8884 - loss: 0.3400 - val_accuracy: 0.8793 - val_loss: 0.3870 - learning_rate: 0.0010\n",
            "Epoch 2/20\n",
            "\u001b[1m329/329\u001b[0m \u001b[32m━━━━━━━━━━━━━━━━━━━━\u001b[0m\u001b[37m\u001b[0m \u001b[1m53s\u001b[0m 161ms/step - accuracy: 0.8915 - loss: 0.3302 - val_accuracy: 0.8803 - val_loss: 0.3756 - learning_rate: 0.0010\n",
            "Epoch 3/20\n",
            "\u001b[1m329/329\u001b[0m \u001b[32m━━━━━━━━━━━━━━━━━━━━\u001b[0m\u001b[37m\u001b[0m \u001b[1m83s\u001b[0m 163ms/step - accuracy: 0.8934 - loss: 0.3164 - val_accuracy: 0.8784 - val_loss: 0.3860 - learning_rate: 0.0010\n",
            "Epoch 4/20\n",
            "\u001b[1m329/329\u001b[0m \u001b[32m━━━━━━━━━━━━━━━━━━━━\u001b[0m\u001b[37m\u001b[0m \u001b[1m86s\u001b[0m 175ms/step - accuracy: 0.8995 - loss: 0.3072 - val_accuracy: 0.8772 - val_loss: 0.3699 - learning_rate: 0.0010\n",
            "Epoch 5/20\n",
            "\u001b[1m329/329\u001b[0m \u001b[32m━━━━━━━━━━━━━━━━━━━━\u001b[0m\u001b[37m\u001b[0m \u001b[1m78s\u001b[0m 162ms/step - accuracy: 0.9002 - loss: 0.2998 - val_accuracy: 0.8852 - val_loss: 0.3709 - learning_rate: 0.0010\n",
            "Epoch 6/20\n",
            "\u001b[1m329/329\u001b[0m \u001b[32m━━━━━━━━━━━━━━━━━━━━\u001b[0m\u001b[37m\u001b[0m \u001b[1m81s\u001b[0m 158ms/step - accuracy: 0.9028 - loss: 0.3008 - val_accuracy: 0.8749 - val_loss: 0.3839 - learning_rate: 0.0010\n",
            "Epoch 7/20\n",
            "\u001b[1m329/329\u001b[0m \u001b[32m━━━━━━━━━━━━━━━━━━━━\u001b[0m\u001b[37m\u001b[0m \u001b[1m87s\u001b[0m 173ms/step - accuracy: 0.8990 - loss: 0.3027 - val_accuracy: 0.8847 - val_loss: 0.3652 - learning_rate: 0.0010\n",
            "Epoch 8/20\n",
            "\u001b[1m329/329\u001b[0m \u001b[32m━━━━━━━━━━━━━━━━━━━━\u001b[0m\u001b[37m\u001b[0m \u001b[1m78s\u001b[0m 161ms/step - accuracy: 0.9027 - loss: 0.2971 - val_accuracy: 0.8844 - val_loss: 0.3799 - learning_rate: 0.0010\n",
            "Epoch 9/20\n",
            "\u001b[1m329/329\u001b[0m \u001b[32m━━━━━━━━━━━━━━━━━━━━\u001b[0m\u001b[37m\u001b[0m \u001b[1m82s\u001b[0m 161ms/step - accuracy: 0.9057 - loss: 0.2877 - val_accuracy: 0.8882 - val_loss: 0.3690 - learning_rate: 0.0010\n",
            "Epoch 10/20\n",
            "\u001b[1m329/329\u001b[0m \u001b[32m━━━━━━━━━━━━━━━━━━━━\u001b[0m\u001b[37m\u001b[0m \u001b[1m87s\u001b[0m 177ms/step - accuracy: 0.9089 - loss: 0.2769 - val_accuracy: 0.8892 - val_loss: 0.3771 - learning_rate: 0.0010\n",
            "Epoch 11/20\n",
            "\u001b[1m329/329\u001b[0m \u001b[32m━━━━━━━━━━━━━━━━━━━━\u001b[0m\u001b[37m\u001b[0m \u001b[1m77s\u001b[0m 162ms/step - accuracy: 0.9077 - loss: 0.2771 - val_accuracy: 0.8816 - val_loss: 0.3925 - learning_rate: 0.0010\n",
            "Epoch 12/20\n",
            "\u001b[1m329/329\u001b[0m \u001b[32m━━━━━━━━━━━━━━━━━━━━\u001b[0m\u001b[37m\u001b[0m \u001b[1m87s\u001b[0m 177ms/step - accuracy: 0.9127 - loss: 0.2652 - val_accuracy: 0.8908 - val_loss: 0.3732 - learning_rate: 0.0010\n",
            "Epoch 13/20\n",
            "\u001b[1m329/329\u001b[0m \u001b[32m━━━━━━━━━━━━━━━━━━━━\u001b[0m\u001b[37m\u001b[0m \u001b[1m78s\u001b[0m 165ms/step - accuracy: 0.9149 - loss: 0.2655 - val_accuracy: 0.8787 - val_loss: 0.4017 - learning_rate: 0.0010\n",
            "Epoch 14/20\n",
            "\u001b[1m329/329\u001b[0m \u001b[32m━━━━━━━━━━━━━━━━━━━━\u001b[0m\u001b[37m\u001b[0m \u001b[1m82s\u001b[0m 165ms/step - accuracy: 0.9134 - loss: 0.2629 - val_accuracy: 0.8889 - val_loss: 0.3810 - learning_rate: 0.0010\n",
            "Epoch 15/20\n",
            "\u001b[1m329/329\u001b[0m \u001b[32m━━━━━━━━━━━━━━━━━━━━\u001b[0m\u001b[37m\u001b[0m \u001b[1m81s\u001b[0m 162ms/step - accuracy: 0.9179 - loss: 0.2532 - val_accuracy: 0.8884 - val_loss: 0.3806 - learning_rate: 0.0010\n",
            "Epoch 16/20\n",
            "\u001b[1m329/329\u001b[0m \u001b[32m━━━━━━━━━━━━━━━━━━━━\u001b[0m\u001b[37m\u001b[0m \u001b[1m82s\u001b[0m 162ms/step - accuracy: 0.9136 - loss: 0.2592 - val_accuracy: 0.8866 - val_loss: 0.4252 - learning_rate: 0.0010\n",
            "Epoch 17/20\n",
            "\u001b[1m329/329\u001b[0m \u001b[32m━━━━━━━━━━━━━━━━━━━━\u001b[0m\u001b[37m\u001b[0m \u001b[1m54s\u001b[0m 164ms/step - accuracy: 0.9171 - loss: 0.2527 - val_accuracy: 0.8913 - val_loss: 0.3830 - learning_rate: 0.0010\n",
            "Epoch 18/20\n",
            "\u001b[1m329/329\u001b[0m \u001b[32m━━━━━━━━━━━━━━━━━━━━\u001b[0m\u001b[37m\u001b[0m \u001b[1m54s\u001b[0m 164ms/step - accuracy: 0.9163 - loss: 0.2572 - val_accuracy: 0.8896 - val_loss: 0.3757 - learning_rate: 0.0010\n",
            "Epoch 19/20\n",
            "\u001b[1m329/329\u001b[0m \u001b[32m━━━━━━━━━━━━━━━━━━━━\u001b[0m\u001b[37m\u001b[0m \u001b[1m81s\u001b[0m 162ms/step - accuracy: 0.9214 - loss: 0.2417 - val_accuracy: 0.8882 - val_loss: 0.4218 - learning_rate: 0.0010\n",
            "Epoch 20/20\n",
            "\u001b[1m329/329\u001b[0m \u001b[32m━━━━━━━━━━━━━━━━━━━━\u001b[0m\u001b[37m\u001b[0m \u001b[1m53s\u001b[0m 161ms/step - accuracy: 0.9181 - loss: 0.2547 - val_accuracy: 0.8918 - val_loss: 0.3873 - learning_rate: 0.0010\n"
          ]
        }
      ]
    },
    {
      "cell_type": "code",
      "source": [
        "resnet_test_loss, resnet_test_acc = resnet.evaluate(x_test_flat, y_test, verbose=0)\n",
        "print(f\"ResNet-style DNN Test Accuracy: {resnet_test_acc:.4f}\")"
      ],
      "metadata": {
        "id": "i3n9OxYkDnuv",
        "outputId": "a4e7fb47-877c-4898-cbe1-c6832191c9e4",
        "colab": {
          "base_uri": "https://localhost:8080/"
        }
      },
      "execution_count": 22,
      "outputs": [
        {
          "output_type": "stream",
          "name": "stdout",
          "text": [
            "ResNet-style DNN Test Accuracy: 0.8828\n"
          ]
        }
      ]
    }
  ],
  "metadata": {
    "colab": {
      "name": "Welcome To Colab",
      "provenance": [],
      "include_colab_link": true
    },
    "kernelspec": {
      "display_name": "Python 3",
      "name": "python3"
    }
  },
  "nbformat": 4,
  "nbformat_minor": 0
}